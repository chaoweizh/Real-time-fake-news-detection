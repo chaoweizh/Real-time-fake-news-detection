{
 "cells": [
  {
   "cell_type": "code",
   "execution_count": null,
   "id": "8c358513",
   "metadata": {},
   "outputs": [],
   "source": [
    "from pycorenlp import StanfordCoreNLP\n",
    "import os\n",
    "import pandas as pd \n",
    "import numpy as np \n",
    "import csv\n",
    "import nltk\n",
    "from nltk import word_tokenize   \n",
    "from nltk.corpus import stopwords\n",
    "from nltk.stem.lancaster import LancasterStemmer\n",
    "st = LancasterStemmer()\n",
    "import itertools\n",
    "nlp = StanfordCoreNLP('http://localhost:9000')\n",
    "\n",
    "%load_ext autoreload\n",
    "%autoreload 2\n"
   ]
  },
  {
   "cell_type": "code",
   "execution_count": null,
   "id": "d83f2146",
   "metadata": {},
   "outputs": [],
   "source": [
    "def text_create(name, msg, address):   \n",
    "    desktop_path = address #'/home/hadoop/Spark-Programs/text'    \n",
    "    full_path = desktop_path + '/'+str(name)\n",
    "    file = open(full_path,'w')           \n",
    "    file.write(msg)\n",
    "    file.close()"
   ]
  },
  {
   "cell_type": "code",
   "execution_count": null,
   "id": "03865421",
   "metadata": {},
   "outputs": [],
   "source": [
    "def csv_read(File_address): \n",
    "    textFile = sc.textFile(File_address)\n",
    "    textFile.map(lambda line: line.split(\",\"))\n",
    "    textFile.filter(lambda line: len(line)>1)\n",
    "    textFile=textFile.collect()\n",
    "    return textFile\n"
   ]
  },
  {
   "cell_type": "code",
   "execution_count": null,
   "id": "3629b249",
   "metadata": {},
   "outputs": [],
   "source": [
    "def write_txt(textFile,address):\n",
    "    textFile = csv_read(textFile)\n",
    "    text_dataframe=[]\n",
    "    file_num = 0\n",
    "    for line in textFile[5:]:\n",
    "        \n",
    "        line = line.split(\",\")[5:]\n",
    "        line = ''.join(line)\n",
    "        line = line.replace('\"','')\n",
    "        text_dataframe.append(line)\n",
    "        file_num+=1\n",
    "        \n",
    "        output = nlp.annotate(line, properties={\n",
    "            'annotators': 'openie',\n",
    "            'outputFormat': 'text'\n",
    "        })\n",
    "\n",
    "        text_create(str(file_num),output,address)       \n",
    "        print('No.',file_num)\n",
    "    return text_dataframe\n"
   ]
  },
  {
   "cell_type": "code",
   "execution_count": null,
   "id": "fc9ab344",
   "metadata": {},
   "outputs": [],
   "source": [
    "if __name__ == '__main__':  \n",
    "    source = '/home/hadoop/allRealNews.csv'\n",
    "    text_target = '/home/hadoop/whole_text'\n",
    "    write_txt(source,text_target)"
   ]
  },
  {
   "cell_type": "code",
   "execution_count": null,
   "id": "e0bbfb0f",
   "metadata": {},
   "outputs": [],
   "source": []
  }
 ],
 "metadata": {
  "kernelspec": {
   "display_name": "Python 3 (ipykernel)",
   "language": "python",
   "name": "python3"
  },
  "language_info": {
   "codemirror_mode": {
    "name": "ipython",
    "version": 3
   },
   "file_extension": ".py",
   "mimetype": "text/x-python",
   "name": "python",
   "nbconvert_exporter": "python",
   "pygments_lexer": "ipython3",
   "version": "3.9.7"
  }
 },
 "nbformat": 4,
 "nbformat_minor": 5
}
